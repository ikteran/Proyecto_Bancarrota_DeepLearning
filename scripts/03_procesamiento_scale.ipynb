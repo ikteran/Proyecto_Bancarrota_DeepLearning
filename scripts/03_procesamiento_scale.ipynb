{
 "cells": [
  {
   "cell_type": "code",
   "execution_count": 1,
   "id": "e1ecf580",
   "metadata": {},
   "outputs": [],
   "source": [
    "import pandas as pd\n",
    "import numpy as np\n",
    "from sklearn.model_selection import train_test_split\n",
    "from sklearn.preprocessing import StandardScaler\n",
    "from sklearn.decomposition import PCA\n",
    "import tensorflow as tf\n",
    "from tensorflow.keras import layers, models\n",
    "from tensorflow.keras.optimizers import Adam\n",
    "from tensorflow.keras.metrics import AUC\n",
    "from sklearn.metrics import roc_auc_score\n",
    "from tensorflow.keras.callbacks import EarlyStopping\n",
    "import random\n",
    "#import keras_tuner as kt\n"
   ]
  },
  {
   "cell_type": "markdown",
   "id": "6189999f",
   "metadata": {},
   "source": [
    "### Cargue de los datos"
   ]
  },
  {
   "cell_type": "code",
   "execution_count": 2,
   "id": "c77e9d72",
   "metadata": {},
   "outputs": [],
   "source": [
    "# Cargar archivos (rutas relativas desde notebooks/)\n",
    "train = pd.read_csv(\"../data/raw/train_data.csv\")\n",
    "test = pd.read_csv(\"../data/raw/test_data.csv\")\n",
    "sample_submission = pd.read_csv(\"../data/raw/sampleSubmission.csv\")"
   ]
  },
  {
   "cell_type": "markdown",
   "id": "797d7f66",
   "metadata": {},
   "source": [
    "### Normalización de los datos"
   ]
  },
  {
   "cell_type": "code",
   "execution_count": 3,
   "id": "09acaa17",
   "metadata": {},
   "outputs": [],
   "source": [
    "# Separar features y target\n",
    "X = train.drop(columns=[\"ID\", \"Bankruptcy\"])\n",
    "y = train[\"Bankruptcy\"]\n",
    "\n",
    "# Guardar ID del test para el submission\n",
    "test_ids = test[\"ID\"]\n",
    "X_test = test.drop(columns=[\"ID\"])\n",
    "\n",
    "# Dividir training en entrenamiento y validación\n",
    "X_train, X_val, y_train, y_val = train_test_split(X, y, test_size=0.2, stratify=y, random_state=42)\n",
    "\n",
    "# Escalar los datos\n",
    "scaler = StandardScaler()\n",
    "X_train_scaled = scaler.fit_transform(X_train)\n",
    "X_val_scaled = scaler.transform(X_val)\n",
    "X_test_scaled = scaler.transform(X_test)\n",
    "\n",
    "#X_train_scaled[:3]  # Mostrar ejemplo de datos escalados"
   ]
  },
  {
   "cell_type": "markdown",
   "id": "415e2477",
   "metadata": {},
   "source": [
    "### Redes Neuronales"
   ]
  },
  {
   "cell_type": "code",
   "execution_count": 4,
   "id": "4e09bd67",
   "metadata": {},
   "outputs": [
    {
     "name": "stdout",
     "output_type": "stream",
     "text": [
      "Epoch 1/100\n",
      "52/52 [==============================] - 2s 9ms/step - loss: 0.7758 - auc: 0.5639 - val_loss: 0.5422 - val_auc: 0.6839\n",
      "Epoch 2/100\n",
      "52/52 [==============================] - 0s 3ms/step - loss: 0.5662 - auc: 0.6299 - val_loss: 0.4034 - val_auc: 0.7335\n",
      "Epoch 3/100\n",
      "52/52 [==============================] - 0s 3ms/step - loss: 0.4596 - auc: 0.5492 - val_loss: 0.3132 - val_auc: 0.7293\n",
      "Epoch 4/100\n",
      "52/52 [==============================] - 0s 3ms/step - loss: 0.3488 - auc: 0.6985 - val_loss: 0.2417 - val_auc: 0.6889\n",
      "Epoch 5/100\n",
      "52/52 [==============================] - 0s 3ms/step - loss: 0.2799 - auc: 0.6494 - val_loss: 0.1934 - val_auc: 0.7327\n",
      "Epoch 6/100\n",
      "52/52 [==============================] - 0s 3ms/step - loss: 0.2235 - auc: 0.6799 - val_loss: 0.1582 - val_auc: 0.8258\n",
      "Epoch 7/100\n",
      "52/52 [==============================] - 0s 3ms/step - loss: 0.1800 - auc: 0.7550 - val_loss: 0.1366 - val_auc: 0.8524\n",
      "Epoch 8/100\n",
      "52/52 [==============================] - 0s 3ms/step - loss: 0.1615 - auc: 0.7610 - val_loss: 0.1248 - val_auc: 0.8551\n",
      "Epoch 9/100\n",
      "52/52 [==============================] - 0s 3ms/step - loss: 0.1475 - auc: 0.7194 - val_loss: 0.1174 - val_auc: 0.8666\n",
      "Epoch 10/100\n",
      "52/52 [==============================] - 0s 3ms/step - loss: 0.1261 - auc: 0.8253 - val_loss: 0.1135 - val_auc: 0.8781\n",
      "Epoch 11/100\n",
      "52/52 [==============================] - 0s 3ms/step - loss: 0.1244 - auc: 0.7948 - val_loss: 0.1153 - val_auc: 0.8927\n",
      "Epoch 12/100\n",
      "52/52 [==============================] - 0s 3ms/step - loss: 0.1167 - auc: 0.8372 - val_loss: 0.1075 - val_auc: 0.9083\n",
      "Epoch 13/100\n",
      "52/52 [==============================] - 0s 3ms/step - loss: 0.1106 - auc: 0.8605 - val_loss: 0.1063 - val_auc: 0.8862\n",
      "Epoch 14/100\n",
      "52/52 [==============================] - 0s 3ms/step - loss: 0.1034 - auc: 0.8772 - val_loss: 0.1029 - val_auc: 0.9034\n",
      "Epoch 15/100\n",
      "52/52 [==============================] - 0s 3ms/step - loss: 0.1158 - auc: 0.8245 - val_loss: 0.0979 - val_auc: 0.9219\n",
      "Epoch 16/100\n",
      "52/52 [==============================] - 0s 3ms/step - loss: 0.0947 - auc: 0.9015 - val_loss: 0.0985 - val_auc: 0.8971\n",
      "Epoch 17/100\n",
      "52/52 [==============================] - 0s 3ms/step - loss: 0.0978 - auc: 0.8820 - val_loss: 0.0993 - val_auc: 0.8814\n",
      "Epoch 18/100\n",
      "52/52 [==============================] - 0s 3ms/step - loss: 0.0986 - auc: 0.8915 - val_loss: 0.1010 - val_auc: 0.8886\n",
      "Epoch 19/100\n",
      "52/52 [==============================] - 0s 3ms/step - loss: 0.0862 - auc: 0.9229 - val_loss: 0.1024 - val_auc: 0.8892\n",
      "Epoch 20/100\n",
      "52/52 [==============================] - 0s 3ms/step - loss: 0.0845 - auc: 0.9238 - val_loss: 0.1064 - val_auc: 0.8708\n",
      "13/13 [==============================] - 0s 1ms/step\n",
      "16/16 [==============================] - 0s 1ms/step\n"
     ]
    }
   ],
   "source": [
    "# Fijar semillas para reproducibilidad\n",
    "np.random.seed(42)\n",
    "tf.random.set_seed(42)\n",
    "random.seed(42)\n",
    "\n",
    "# Modelo mejorado\n",
    "model = models.Sequential([\n",
    "    layers.Input(shape=(X_train_scaled.shape[1],)),\n",
    "    \n",
    "    layers.Dense(128, activation='relu'),\n",
    "    layers.BatchNormalization(),\n",
    "    layers.Dropout(0.3),\n",
    "    \n",
    "    layers.Dense(64, activation='relu'),\n",
    "    layers.BatchNormalization(),\n",
    "    layers.Dropout(0.3),\n",
    "\n",
    "    layers.Dense(32, activation='relu'),\n",
    "    layers.BatchNormalization(),\n",
    "    layers.Dropout(0.2),\n",
    "\n",
    "    layers.Dense(1, activation='sigmoid')\n",
    "])\n",
    "\n",
    "# Compilación con tasa de aprendizaje explícita\n",
    "model.compile(optimizer=Adam(learning_rate=0.001),\n",
    "              loss='binary_crossentropy',\n",
    "              metrics=[AUC(name='auc')])\n",
    "\n",
    "\n",
    "early_stop = EarlyStopping(monitor='val_auc', patience=5, mode='max', restore_best_weights=True)\n",
    "\n",
    "history = model.fit(X_train_scaled, y_train,\n",
    "                    validation_data=(X_val_scaled, y_val),\n",
    "                    epochs=100,  # subimos el máximo de epochs\n",
    "                    batch_size=32,\n",
    "                    callbacks=[early_stop],\n",
    "                    verbose=1)\n",
    "\n",
    "# Evaluar en el set de validación\n",
    "val_predictions = model.predict(X_val_scaled)\n",
    "auc_score = roc_auc_score(y_val, val_predictions)\n",
    "\n",
    "# Predecir para el archivo de test\n",
    "test_predictions = model.predict(X_test_scaled)"
   ]
  },
  {
   "cell_type": "code",
   "execution_count": 5,
   "id": "23ee85c0",
   "metadata": {},
   "outputs": [
    {
     "data": {
      "application/vnd.microsoft.datawrangler.viewer.v0+json": {
       "columns": [
        {
         "name": "index",
         "rawType": "int64",
         "type": "integer"
        },
        {
         "name": "ID",
         "rawType": "int64",
         "type": "integer"
        },
        {
         "name": "Bankruptcy",
         "rawType": "float32",
         "type": "float"
        }
       ],
       "conversionMethod": "pd.DataFrame",
       "ref": "f54cdeb9-1a53-45d1-bd28-baa1113c690d",
       "rows": [
        [
         "0",
         "5",
         "0.0084604025"
        ],
        [
         "1",
         "14",
         "0.007052139"
        ],
        [
         "2",
         "16",
         "0.014421471"
        ],
        [
         "3",
         "26",
         "0.0018900207"
        ],
        [
         "4",
         "28",
         "0.020560484"
        ]
       ],
       "shape": {
        "columns": 2,
        "rows": 5
       }
      },
      "text/html": [
       "<div>\n",
       "<style scoped>\n",
       "    .dataframe tbody tr th:only-of-type {\n",
       "        vertical-align: middle;\n",
       "    }\n",
       "\n",
       "    .dataframe tbody tr th {\n",
       "        vertical-align: top;\n",
       "    }\n",
       "\n",
       "    .dataframe thead th {\n",
       "        text-align: right;\n",
       "    }\n",
       "</style>\n",
       "<table border=\"1\" class=\"dataframe\">\n",
       "  <thead>\n",
       "    <tr style=\"text-align: right;\">\n",
       "      <th></th>\n",
       "      <th>ID</th>\n",
       "      <th>Bankruptcy</th>\n",
       "    </tr>\n",
       "  </thead>\n",
       "  <tbody>\n",
       "    <tr>\n",
       "      <th>0</th>\n",
       "      <td>5</td>\n",
       "      <td>0.008460</td>\n",
       "    </tr>\n",
       "    <tr>\n",
       "      <th>1</th>\n",
       "      <td>14</td>\n",
       "      <td>0.007052</td>\n",
       "    </tr>\n",
       "    <tr>\n",
       "      <th>2</th>\n",
       "      <td>16</td>\n",
       "      <td>0.014421</td>\n",
       "    </tr>\n",
       "    <tr>\n",
       "      <th>3</th>\n",
       "      <td>26</td>\n",
       "      <td>0.001890</td>\n",
       "    </tr>\n",
       "    <tr>\n",
       "      <th>4</th>\n",
       "      <td>28</td>\n",
       "      <td>0.020560</td>\n",
       "    </tr>\n",
       "  </tbody>\n",
       "</table>\n",
       "</div>"
      ],
      "text/plain": [
       "   ID  Bankruptcy\n",
       "0   5    0.008460\n",
       "1  14    0.007052\n",
       "2  16    0.014421\n",
       "3  26    0.001890\n",
       "4  28    0.020560"
      ]
     },
     "execution_count": 5,
     "metadata": {},
     "output_type": "execute_result"
    }
   ],
   "source": [
    "# Crear DataFrame de submission con las predicciones del modelo (basado en PCA)\n",
    "submission_df = pd.DataFrame({\n",
    "    'ID': test_ids,  # Usamos test_ids guardado al inicio\n",
    "    'Bankruptcy': test_predictions.flatten()\n",
    "})\n",
    "\n",
    "# Guardar el archivo correctamente\n",
    "submission_df.to_csv(\"../results/submission_scaled1.csv\", index=False)\n",
    "\n",
    "# Verificar\n",
    "submission_df.head()"
   ]
  }
 ],
 "metadata": {
  "kernelspec": {
   "display_name": "tf",
   "language": "python",
   "name": "python3"
  },
  "language_info": {
   "codemirror_mode": {
    "name": "ipython",
    "version": 3
   },
   "file_extension": ".py",
   "mimetype": "text/x-python",
   "name": "python",
   "nbconvert_exporter": "python",
   "pygments_lexer": "ipython3",
   "version": "3.10.13"
  }
 },
 "nbformat": 4,
 "nbformat_minor": 5
}
